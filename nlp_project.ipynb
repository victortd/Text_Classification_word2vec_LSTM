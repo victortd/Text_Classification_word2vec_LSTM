{
 "cells": [
  {
   "cell_type": "markdown",
   "metadata": {},
   "source": [
    "# Deep Learning for NLP - Project"
   ]
  },
  {
   "cell_type": "markdown",
   "metadata": {},
   "source": [
    "RULES:\n",
    "\n",
    "* Do not create any additional cell\n",
    "\n",
    "* Fill in the blanks\n",
    "\n",
    "* All cells should be runnable (modulo trivial compatibility bugs that we'd fix)\n",
    "\n",
    "* 4 / 20 points will be allocated to the clarity of your code\n",
    "\n",
    "* Efficient code will have a bonus\n",
    "\n",
    "DELIVERABLE:\n",
    "\n",
    "* this notebook\n",
    "* the predictions of the SST test set\n",
    "\n",
    "DO NOT INCLUDE THE DATASETS IN THE DELIVERABLE.."
   ]
  },
  {
   "cell_type": "code",
   "execution_count": 42,
   "metadata": {},
   "outputs": [],
   "source": [
    "import io\n",
    "import os\n",
    "import numpy as np\n",
    "import scipy"
   ]
  },
  {
   "cell_type": "code",
   "execution_count": 43,
   "metadata": {},
   "outputs": [],
   "source": [
    "PATH_TO_DATA = \"data/\""
   ]
  },
  {
   "cell_type": "markdown",
   "metadata": {},
   "source": [
    "# 1) Monolingual (English) word embeddings "
   ]
  },
  {
   "cell_type": "code",
   "execution_count": 44,
   "metadata": {},
   "outputs": [],
   "source": [
    "class Word2vec():\n",
    "    def __init__(self, fname, nmax=100000):\n",
    "        self.load_wordvec(fname, nmax)\n",
    "        self.word2id = dict.fromkeys(self.word2vec.keys())\n",
    "        self.id2word = {v: k for k, v in self.word2id.items()}\n",
    "        self.embeddings = np.array(self.word2vec.values())\n",
    "    \n",
    "    def load_wordvec(self, fname, nmax):\n",
    "        self.word2vec = {}\n",
    "        with io.open(fname, encoding='utf-8') as f:\n",
    "            next(f)\n",
    "            for i, line in enumerate(f):\n",
    "                word, vec = line.split(' ', 1)\n",
    "                self.word2vec[word] = np.fromstring(vec, sep=' ')\n",
    "                if i == (nmax - 1):\n",
    "                    break\n",
    "        print('Loaded %s pretrained word vectors' % (len(self.word2vec)))\n",
    "\n",
    "    def most_similar(self, w, K=5):\n",
    "        # K most similar words: self.score  -  np.argsort \n",
    "        score_lis = {}\n",
    "        for j in self.word2vec.keys():\n",
    "                key = w+'_'+j\n",
    "                score_lis[key] = self.score(w,j)      \n",
    "        sorted_x = sorted(score_lis.items(), key=lambda kv: kv[1], reverse=True)\n",
    "\n",
    "        s = sorted_x[1:K+1]\n",
    "        return s\n",
    "\n",
    "    def score(self, w1, w2):\n",
    "        # cosine similarity: np.dot  -  np.linalg.norm\n",
    "        w1_v = self.word2vec[w1]\n",
    "        w2_v = self.word2vec[w2]\n",
    "        x = np.dot(w1_v,w2_v)/(np.linalg.norm(w1_v)*np.linalg.norm(w2_v))\n",
    "        return x\n"
   ]
  },
  {
   "cell_type": "code",
   "execution_count": 45,
   "metadata": {},
   "outputs": [
    {
     "name": "stdout",
     "output_type": "stream",
     "text": [
      "Loaded 100000 pretrained word vectors\n",
      "cat dog 0.671683666279\n",
      "dog pet 0.684206402967\n",
      "dogs cats 0.707438932805\n",
      "paris france 0.777510854129\n",
      "germany berlin 0.7420295236\n",
      "[('cat_cats', 0.83531847142649929), ('cat_kitty', 0.80344104784938142), ('cat_kitten', 0.80247620623927429), ('cat_feline', 0.76806540769118603), ('cat_kitties', 0.72370892233947082)]\n",
      "[('dog_dogs', 0.85520791633625803), ('dog_puppy', 0.78456942796154305), ('dog_Dog', 0.75115716380042452), ('dog_doggie', 0.74424133571767204), ('dog_canine', 0.74212506227014075)]\n",
      "[('dogs_dog', 0.85520791633625803), ('dogs_pooches', 0.77126647376797774), ('dogs_Dogs', 0.77043964574341128), ('dogs_doggies', 0.76991927736150356), ('dogs_canines', 0.75270400426481465)]\n",
      "[('paris_france', 0.77751085412885579), ('paris_Paris', 0.68451403974940983), ('paris_london', 0.67285454314612769), ('paris_berlin', 0.64244476281262608), ('paris_tokyo', 0.64096214956538722)]\n",
      "[('germany_austria', 0.76876719875295074), ('germany_europe', 0.75975912310744687), ('germany_german', 0.74458263057606178), ('germany_berlin', 0.74202952359983942), ('germany_poland', 0.72367056572798605)]\n"
     ]
    }
   ],
   "source": [
    "w2v = Word2vec(os.path.join(PATH_TO_DATA, 'crawl-300d-200k.vec'), nmax=100000)\n",
    "\n",
    "# You will be evaluated on the output of the following:\n",
    "for w1, w2 in zip(('cat', 'dog', 'dogs', 'paris', 'germany'), ('dog', 'pet', 'cats', 'france', 'berlin')):\n",
    "    print(w1, w2, w2v.score(w1, w2))\n",
    "for w1 in ['cat', 'dog', 'dogs', 'paris', 'germany']:\n",
    "    print(w2v.most_similar(w1))"
   ]
  },
  {
   "cell_type": "code",
   "execution_count": 46,
   "metadata": {},
   "outputs": [],
   "source": [
    "class BoV():\n",
    "    def __init__(self, w2v):\n",
    "        self.w2v = w2v\n",
    "        self.sentemb = []\n",
    "    def encode(self, sentences, idf=False):\n",
    "        # takes a list of sentences, outputs a numpy array of sentence embeddings\n",
    "        # see TP1 for help\n",
    "        self.sentemb = []\n",
    "        nb = 0\n",
    "        for sent in sentences:\n",
    "            if idf is False:\n",
    "                # mean of word vectors\n",
    "                sent_emb = []\n",
    "                for word in sent:\n",
    "                    if word not in w2v.word2vec.keys():\n",
    "                        sent_emb.append([0]*300)\n",
    "                    else: \n",
    "                        sent_emb.append(w2v.word2vec[word])\n",
    "                self.sentemb.append(np.mean(sent_emb, axis = 0))\n",
    "            else:\n",
    "                sent_emb = []\n",
    "                k= 0\n",
    "                for word in sent:\n",
    "                    if word not in w2v.word2vec.keys():\n",
    "                        sent_emb.append([0]*300)\n",
    "                    else: \n",
    "                        if word in idf.keys(): \n",
    "                            k += idf[word]\n",
    "                            sent_emb.append(idf[word]*w2v.word2vec[word]) \n",
    "                        else: \n",
    "                            k+=1\n",
    "                            sent_emb.append(w2v.word2vec[word]) \n",
    "                self.sentemb.append(np.sum(sent_emb, axis = 0)/max(k,1)) \n",
    "                # idf-weighted mean of word vectors\n",
    "\n",
    "        return np.vstack(self.sentemb)\n",
    "\n",
    "    def most_similar(self, s, sentences, idf=False, K=5):\n",
    "        # get most similar sentences and **print** them\n",
    "        score_lis = []\n",
    "        \n",
    "        for j in sentences:\n",
    "            score_lis.append(self.score(s,j))\n",
    "        sorted_x = np.argsort(score_lis)\n",
    "        \n",
    "        s = sorted_x[-(K+1):-1]\n",
    "        res = []\n",
    "        for i in s:\n",
    "            res.append(sentences[i])\n",
    "        return res\n",
    "\n",
    "    def score(self, s1, s2, idf=False):\n",
    "        # cosine similarity: use   np.dot  and  np.linalg.norm\n",
    "        if len(s1) != 300:\n",
    "            s1 = self.encode([s1], idf)\n",
    "            s1 = s1[0]\n",
    "        if len(s2) != 300:\n",
    "            s2 = self.encode([s2], idf)\n",
    "            s2 = s2[0]\n",
    "        \n",
    "        x = np.dot(s1,s2)/(np.linalg.norm(s1)*np.linalg.norm(s2))\n",
    "        \n",
    "        return x\n",
    "    \n",
    "    def build_idf(self, sentences):\n",
    "        # build the idf dictionary: associate each word to its idf value\n",
    "        idf1 = {}\n",
    "        for sent in sentences:\n",
    "             for w in set(sent):\n",
    "                idf1[w] = idf1.get(w, 0) + 1\n",
    "        \n",
    "        for word in idf1.keys():\n",
    "            idf1[word] = max(1, np.log10(len(sentences) / (idf1[word])))\n",
    "        \n",
    "        return idf1"
   ]
  },
  {
   "cell_type": "code",
   "execution_count": 47,
   "metadata": {},
   "outputs": [
    {
     "name": "stdout",
     "output_type": "stream",
     "text": [
      "Loaded 50000 pretrained word vectors\n"
     ]
    },
    {
     "data": {
      "text/plain": [
       "0.69970929971501439"
      ]
     },
     "execution_count": 47,
     "metadata": {},
     "output_type": "execute_result"
    }
   ],
   "source": [
    "w2v = Word2vec(os.path.join(PATH_TO_DATA, 'crawl-300d-200k.vec'), nmax=50000)\n",
    "s2v = BoV(w2v)\n",
    "\n",
    "# Load sentences in \"PATH_TO_DATA/sentences.txt\"\n",
    "sentences = []\n",
    "with io.open(os.path.join(PATH_TO_DATA, 'sentences.txt'), encoding='utf-8') as f:\n",
    "    next(f)\n",
    "    for i, line in enumerate(f):\n",
    "        sent = line.split()\n",
    "        sentences.append(sent)\n",
    "\n",
    "\n",
    "# Build idf scores for each word\n",
    "idf = s2v.build_idf(sentences)\n",
    "\n",
    "# You will be evaluated on the output of the following:\n",
    "s2v.most_similar('' if not sentences else sentences[10], sentences)  # BoV-mean\n",
    "s2v.score('' if not sentences else sentences[7], '' if not sentences else sentences[13])\n",
    "\n",
    "s2v.most_similar('' if not sentences else sentences[10], sentences, idf)  # BoV-idf\n",
    "s2v.score('' if not sentences else sentences[7], '' if not sentences else sentences[13], idf)"
   ]
  },
  {
   "cell_type": "markdown",
   "metadata": {},
   "source": [
    "# 2) Multilingual (English-French) word embeddings"
   ]
  },
  {
   "cell_type": "markdown",
   "metadata": {},
   "source": [
    "Let's consider a bilingual dictionary of size V_a (e.g French-English).\n",
    "\n",
    "Let's define **X** and **Y** the **French** and **English** matrices.\n",
    "\n",
    "They contain the embeddings associated to the words in the bilingual dictionary.\n",
    "\n",
    "We want to find a **mapping W** that will project the source word space (e.g French) to the target word space (e.g English).\n",
    "\n",
    "Procrustes : **W\\* = argmin || W.X - Y ||  s.t  W^T.W = Id**\n",
    "has a closed form solution:\n",
    "**W = U.V^T  where  U.Sig.V^T = SVD(Y.X^T)**\n",
    "\n",
    "In what follows, you are asked to: "
   ]
  },
  {
   "cell_type": "code",
   "execution_count": 48,
   "metadata": {},
   "outputs": [
    {
     "name": "stdout",
     "output_type": "stream",
     "text": [
      "Beginning file download with requests\n"
     ]
    }
   ],
   "source": [
    "# 1 - Download and load 50k first vectors of\n",
    "#     https://s3-us-west-1.amazonaws.com/fasttext-vectors/wiki.en.vec\n",
    "#     https://s3-us-west-1.amazonaws.com/fasttext-vectors/wiki.fr.vec\n",
    "\n",
    "import requests\n",
    "\n",
    "print('Beginning file download with requests')\n",
    "\n",
    "def download_vec(path, url_request, nb_vec, download=True):\n",
    "    counter = 0\n",
    "    if download is True:\n",
    "        with open(os.path.join(PATH_TO_DATA, path), 'w', encoding ='utf-8') as f:  \n",
    "            for line in url_request.iter_lines():\n",
    "                if counter >= nb_vec:\n",
    "                    break\n",
    "                counter += 1\n",
    "                f.write(str(line)+ '\\n')\n",
    "            f.close()\n",
    "            print('download of '+str(path)+' is done')\n",
    "    return\n",
    "\n",
    "def load_wordvec(path, nmax):\n",
    "    word2vec = {}\n",
    "    with io.open(os.path.join(PATH_TO_DATA, path), encoding='utf-8') as f:\n",
    "        next(f)\n",
    "        for i, line in enumerate(f):\n",
    "            word, vec = line.split(' ', 1)\n",
    "            word = word.replace(\"b'\",\"\")\n",
    "            word2vec[word] = np.fromstring(vec, sep=' ')\n",
    "            if i == (nmax - 1):\n",
    "                break\n",
    "    return word2vec\n",
    "\n",
    "download = False\n",
    "\n",
    "url1 = 'https://s3-us-west-1.amazonaws.com/fasttext-vectors/wiki.en.vec'  \n",
    "r1 = requests.get(url1, stream = True)\n",
    "download_vec('wiki.en.vec', r1, 50000, download)\n",
    "wiki_en_w2v = load_wordvec('wiki.en.vec', 50000)\n",
    "\n",
    "url2 = 'https://s3-us-west-1.amazonaws.com/fasttext-vectors/wiki.fr.vec'  \n",
    "r2 = requests.get(url2, stream = True)\n",
    "download_vec('wiki.fr.vec', r2, 50000, download)\n",
    "wiki_fr_w2v = load_wordvec('wiki.fr.vec', 50000)\n",
    "\n",
    "# TYPE CODE HERE\n"
   ]
  },
  {
   "cell_type": "code",
   "execution_count": 49,
   "metadata": {},
   "outputs": [],
   "source": [
    "# 2 - Get words that appear in both vocabs (= identical character strings)\n",
    "#     Use it to create the matrix X and Y (of aligned embeddings for these words)\n",
    "\n",
    "# TYPE CODE HERE\n",
    "\n",
    "enSet = set(wiki_en_w2v)\n",
    "frSet = set(wiki_fr_w2v)\n",
    "\n",
    "French_list=[]\n",
    "English_list=[]\n",
    "for name in enSet.intersection(frSet):\n",
    "    English_list.append(wiki_en_w2v[name])\n",
    "    French_list.append(wiki_fr_w2v[name])   \n",
    "\n",
    "X = np.vstack(French_list)\n",
    "Y = np.vstack(English_list)"
   ]
  },
  {
   "cell_type": "code",
   "execution_count": 50,
   "metadata": {},
   "outputs": [],
   "source": [
    "# 3 - Solve the Procrustes using the scipy package and: scipy.linalg.svd() and get the optimal W\n",
    "#     Now W*French_vector is in the same space as English_vector\n",
    "\n",
    "Z = np.dot(Y.transpose(),X)\n",
    "\n",
    "U, s, V = np.linalg.svd(Z)\n",
    "\n",
    "W = np.dot(U,V)\n",
    "\n",
    "def most_similar(w, name_list,  K=2):\n",
    "    # K most similar words: self.score  -  np.argsort \n",
    "    score_lis = {}\n",
    "    for j in name_list.keys():\n",
    "            j_ = name_list[j]\n",
    "            score_lis[j] = score(w,j_) \n",
    "    sorted_x = sorted(score_lis.items(), key=lambda kv: kv[1], reverse=True)\n",
    "\n",
    "    s = sorted_x[:K+1]\n",
    "    return s\n",
    "\n",
    "def score(w1, w2):\n",
    "    # cosine similarity: np.dot  -  np.linalg.norm\n",
    "    x = np.dot(w1,w2)/(np.linalg.norm(w1)*np.linalg.norm(w2))\n",
    "    return x\n",
    "\n",
    "# TYPE CODE HERE\n"
   ]
  },
  {
   "cell_type": "code",
   "execution_count": 51,
   "metadata": {},
   "outputs": [
    {
     "data": {
      "text/plain": [
       "[('computer', 0.7132055787939765),\n",
       " ('informatique', 0.70400659674029042),\n",
       " ('ordinateurs', 0.68413587155445654)]"
      ]
     },
     "execution_count": 51,
     "metadata": {},
     "output_type": "execute_result"
    }
   ],
   "source": [
    "# 4 - After alignment with W, give examples of English nearest neighbors of some French words (and vice versa)\n",
    "#     You will be evaluated on that part and the code above\n",
    "\n",
    "# TYPE CODE HERE\n",
    "#from french to english\n",
    "projX = np.dot(W, wiki_fr_w2v['roi'])\n",
    "most_similar(projX, wiki_en_w2v, K=2)\n",
    "\n",
    "\n",
    "#from english to french\n",
    "projY = np.dot(W.transpose(), wiki_en_w2v['computer'])\n",
    "most_similar(projY, wiki_fr_w2v, K=2)\n",
    "\n"
   ]
  },
  {
   "cell_type": "markdown",
   "metadata": {},
   "source": [
    "If you want to dive deeper on this subject: https://github.com/facebookresearch/MUSE"
   ]
  },
  {
   "cell_type": "markdown",
   "metadata": {},
   "source": [
    "# 3) Sentence classification with BoV and scikit-learn"
   ]
  },
  {
   "cell_type": "code",
   "execution_count": 52,
   "metadata": {},
   "outputs": [],
   "source": [
    "# 1 - Load train/dev/test of Stanford Sentiment TreeBank (SST)\n",
    "#     (https://nlp.stanford.edu/~socherr/EMNLP2013_RNTN.pdf)\n",
    "\n",
    "# TYPE CODE HERE\n",
    "\n",
    "def load_test(path):\n",
    "    sentences = []\n",
    "    with io.open(os.path.join(PATH_TO_DATA, path), encoding='utf-8') as f:\n",
    "        for i, line in enumerate(f):\n",
    "            sent = line.split()\n",
    "            sentences.append(sent)\n",
    "    return sentences\n",
    "\n",
    "def load_traindev(path):\n",
    "    sentences = []\n",
    "    grades = []\n",
    "    with io.open(os.path.join(PATH_TO_DATA, path), encoding='utf-8') as f:\n",
    "        for i, line in enumerate(f):\n",
    "            grade, sent = line.split(' ', 1)\n",
    "            sente = sent.split()\n",
    "            grade = int(grade)\n",
    "            grades.append(grade)\n",
    "            sentences.append(sente)\n",
    "    return grades, sentences\n",
    "\n",
    "train_gr, train_sent= load_traindev('SST/stsa.fine.train')\n",
    "dev_gr, dev_sent = load_traindev('SST/stsa.fine.dev')\n",
    "test = load_test('SST/stsa.fine.test.X')"
   ]
  },
  {
   "cell_type": "code",
   "execution_count": 53,
   "metadata": {},
   "outputs": [
    {
     "name": "stdout",
     "output_type": "stream",
     "text": [
      "Loaded 200000 pretrained word vectors\n"
     ]
    }
   ],
   "source": [
    "# 2 - Encode sentences with the BoV model above\n",
    "\n",
    "# TYPE CODE HERE\n",
    "\n",
    "w2v = Word2vec(os.path.join(PATH_TO_DATA, 'crawl-300d-200k.vec'), nmax=200000)\n",
    "s2v = BoV(w2v)\n",
    "\n",
    "train_we = s2v.encode(train_sent)\n",
    "dev_we = s2v.encode(dev_sent)\n",
    "test_we = s2v.encode(test)\n"
   ]
  },
  {
   "cell_type": "code",
   "execution_count": 54,
   "metadata": {},
   "outputs": [
    {
     "data": {
      "text/plain": [
       "\"\\nfrom sklearn.model_selection import GridSearchCV\\ngrid = GridSearchCV(\\n    logreg_model, {'C': [0.5, 0.6, 0.7, 0.8, 0.9, 1, 1.1, 1.2, 10]})\\ngrid.fit(train_we, train_gr)\\n\""
      ]
     },
     "execution_count": 54,
     "metadata": {},
     "output_type": "execute_result"
    }
   ],
   "source": [
    "# 3 - Learn Logistic Regression on top of sentence embeddings using scikit-learn\n",
    "#     (consider tuning the L2 regularization on the dev set)\n",
    "\n",
    "# TYPE CODE HERE\n",
    "from sklearn.linear_model import LogisticRegression\n",
    "logreg_model = LogisticRegression(C = 1) # 1 was the best fit according to the grid search\n",
    "\n",
    "logreg_model.fit(train_we, train_gr)\n",
    "logreg_model.score(train_we, train_gr)\n",
    "'''\n",
    "from sklearn.model_selection import GridSearchCV\n",
    "grid = GridSearchCV(\n",
    "    logreg_model, {'C': [0.5, 0.6, 0.7, 0.8, 0.9, 1, 1.1, 1.2, 10]})\n",
    "grid.fit(train_we, train_gr)\n",
    "'''"
   ]
  },
  {
   "cell_type": "code",
   "execution_count": 55,
   "metadata": {},
   "outputs": [],
   "source": [
    "# 4 - Produce 2210 predictions for the test set (in the same order). One line = one prediction (=0,1,2,3,4).\n",
    "#     Attach the output file \"logreg_bov_y_test_sst.txt\" to your deliverable.\n",
    "#     You will be evaluated on the results of the test set.\n",
    "\n",
    "# TYPE CODE HERE\n",
    "J = logreg_model.score(dev_we, dev_gr)\n",
    "\n",
    "dev_pred = logreg_model.predict(dev_we)\n",
    "test_pred = logreg_model.predict(test_we)\n",
    "\n",
    "with open(os.path.join(PATH_TO_DATA, 'logreg_bov_y_test_sst.txt'), 'w', encoding = 'utf-8') as f:\n",
    "    for gr in test_pred:\n",
    "        f.write(\"%s\\n\" % gr)\n",
    "    f.close()\n",
    "\n"
   ]
  },
  {
   "cell_type": "code",
   "execution_count": 56,
   "metadata": {},
   "outputs": [],
   "source": [
    "# BONUS!\n",
    "# 5 - Try to improve performance with another classifier\n",
    "#     Attach the output file \"XXX_bov_y_test_sst.txt\" to your deliverable (where XXX = the name of the classifier)\n",
    "\n",
    "# TYPE CODE HERE"
   ]
  },
  {
   "cell_type": "markdown",
   "metadata": {},
   "source": [
    "# 4) Sentence classification with LSTMs in Keras"
   ]
  },
  {
   "cell_type": "markdown",
   "metadata": {},
   "source": [
    "## 4.1 - Preprocessing"
   ]
  },
  {
   "cell_type": "code",
   "execution_count": 57,
   "metadata": {},
   "outputs": [],
   "source": [
    "import keras"
   ]
  },
  {
   "cell_type": "code",
   "execution_count": 58,
   "metadata": {},
   "outputs": [],
   "source": [
    "# 1 - Load train/dev/test sets of SST\n",
    "\n",
    "# TYPE CODE HERE\n",
    "\n",
    "def load_test(path):\n",
    "    sentences = []\n",
    "    with io.open(os.path.join(PATH_TO_DATA, path), encoding='utf-8') as f:\n",
    "        for i, line in enumerate(f):\n",
    "            #sent = line.split()\n",
    "            sentences.append(line)\n",
    "    return sentences\n",
    "\n",
    "def load_traindev(path):\n",
    "    sentences = []\n",
    "    grades = []\n",
    "    with io.open(os.path.join(PATH_TO_DATA, path), encoding='utf-8') as f:\n",
    "        for i, line in enumerate(f):\n",
    "            grade, sent = line.split(' ', 1)\n",
    "            #sente = sent.split()\n",
    "            grade = int(grade)\n",
    "            grades.append(grade)\n",
    "            sentences.append(sent)\n",
    "    return grades, sentences\n",
    "\n",
    "train_gr, train_senten= load_traindev('SST/stsa.fine.train')\n",
    "dev_gr, dev_senten = load_traindev('SST/stsa.fine.dev')\n",
    "test_senten = load_test('SST/stsa.fine.test.X')"
   ]
  },
  {
   "cell_type": "code",
   "execution_count": 59,
   "metadata": {},
   "outputs": [],
   "source": [
    "# 2 - Transform text to integers using keras.preprocessing.text.one_hot function\n",
    "#     https://keras.io/preprocessing/text/\n",
    "\n",
    "# TYPE CODE HERE\n",
    "import pandas as pd\n",
    "from keras.preprocessing.text import one_hot\n",
    "\n",
    "n = 20000\n",
    "t_sent = \" \"\n",
    "train_sent_one_hot= [one_hot(train_senten[j], n) for j in range(len(train_senten))]\n",
    "dev_sent_one_hot= [one_hot(dev_senten[j], n) for j in range(len(dev_senten))]\n",
    "test_sent_one_hot= [one_hot(test_senten[j], n) for j in range(len(test_senten))]"
   ]
  },
  {
   "cell_type": "markdown",
   "metadata": {},
   "source": [
    "**Padding input data**\n",
    "\n",
    "Models in Keras (and elsewhere) take batches of sentences of the same length as input. It is because Deep Learning framework have been designed to handle well Tensors, which are particularly suited for fast computation on the GPU.\n",
    "\n",
    "Since sentences have different sizes, we \"pad\" them. That is, we add dummy \"padding\" tokens so that they all have the same length.\n",
    "\n",
    "The input to a Keras model thus has this size : (batchsize, maxseqlen) where maxseqlen is the maximum length of a sentence in the batch."
   ]
  },
  {
   "cell_type": "code",
   "execution_count": 60,
   "metadata": {},
   "outputs": [],
   "source": [
    "# 3 - Pad your sequences using keras.preprocessing.sequence.pad_sequences\n",
    "#     https://keras.io/preprocessing/sequence/\n",
    "\n",
    "# TYPE CODE HERE\n",
    "from keras.preprocessing.sequence import pad_sequences\n",
    "\n",
    "train_sent_pad = pad_sequences(train_sent_one_hot)\n",
    "dev_sent_pad = pad_sequences(dev_sent_one_hot)\n",
    "test_sent_pad = pad_sequences(test_sent_one_hot)"
   ]
  },
  {
   "cell_type": "markdown",
   "metadata": {},
   "source": [
    "## 4.2 - Design and train your model"
   ]
  },
  {
   "cell_type": "code",
   "execution_count": 61,
   "metadata": {},
   "outputs": [
    {
     "name": "stderr",
     "output_type": "stream",
     "text": [
      "/Users/victort-d/anaconda/lib/python3.6/site-packages/keras/preprocessing/text.py:145: UserWarning: The `nb_words` argument in `Tokenizer` has been renamed `num_words`.\n",
      "  warnings.warn('The `nb_words` argument in `Tokenizer` '\n",
      "/Users/victort-d/anaconda/lib/python3.6/site-packages/ipykernel_launcher.py:57: UserWarning: Update your `LSTM` call to the Keras 2 API: `LSTM(64, dropout=0.2, recurrent_dropout=0.2)`\n"
     ]
    }
   ],
   "source": [
    "# 4 - Design your encoder + classifier using keras.layers\n",
    "#     In Keras, Torch and other deep learning framework, we create a \"container\" which is the Sequential() module.\n",
    "#     Then we add components to this contained : the lookuptable, the LSTM, the classifier etc.\n",
    "#     All of these components are contained in the Sequential() and are trained together.\n",
    "\n",
    "\n",
    "# ADAPT CODE BELOW\n",
    "\n",
    "from keras.preprocessing.text import Tokenizer\n",
    "from keras.preprocessing.sequence import pad_sequences\n",
    "\n",
    "tokenizer = Tokenizer(nb_words=20000)\n",
    "tokenizer.fit_on_texts(train_senten)\n",
    "sequences_train = tokenizer.texts_to_sequences(train_senten)\n",
    "sequences_dev= tokenizer.texts_to_sequences(dev_senten)\n",
    "sequences_test = tokenizer.texts_to_sequences(test_senten)\n",
    "word_index = tokenizer.word_index\n",
    "\n",
    "train_sent_pad = pad_sequences(sequences_train)\n",
    "dev_sent_pad = pad_sequences(sequences_dev)\n",
    "test_sent_pad = pad_sequences(sequences_test)\n",
    "\n",
    "\n",
    "embeddings_index = {}\n",
    "f = open(os.path.join(PATH_TO_DATA, 'crawl-300d-200k.vec'))\n",
    "for line in f:\n",
    "    values = line.split()\n",
    "    word = values[0]\n",
    "    coefs = np.asarray(values[1:], dtype='float32')\n",
    "    embeddings_index[word] = coefs\n",
    "f.close()\n",
    "\n",
    "embedding_matrix = np.zeros((len(word_index) + 1, 300))\n",
    "for word, i in word_index.items():\n",
    "    embedding_vector = embeddings_index.get(word)\n",
    "    if embedding_vector is not None:\n",
    "        # words not found in embedding index will be all-zeros.\n",
    "        embedding_matrix[i] = embedding_vector\n",
    "\n",
    "from keras.models import Sequential\n",
    "from keras.layers import Embedding, LSTM, Dense, Activation, TimeDistributed, Bidirectional, Dropout\n",
    "from keras.callbacks import ReduceLROnPlateau, EarlyStopping\n",
    "\n",
    "embed_dim  = 32  # word embedding dimension\n",
    "nhid       = 64  # number of hidden units in the LSTM\n",
    "vocab_size = n # size of the vocabulary\n",
    "n_classes  = 5\n",
    "\n",
    "model = Sequential()\n",
    "model.add(Embedding(embedding_matrix.shape[0],\n",
    "                    embedding_matrix.shape[1],\n",
    "                    trainable=False,\n",
    "                    weights=[embedding_matrix],\n",
    "                    mask_zero=True))\n",
    "\n",
    "model.add(TimeDistributed(Dense(64)))\n",
    "model.add(Bidirectional(LSTM(nhid, dropout_W=0.2, dropout_U=0.2)))\n",
    "model.add(Dense(n_classes, activation='softmax'))\n"
   ]
  },
  {
   "cell_type": "code",
   "execution_count": 62,
   "metadata": {},
   "outputs": [
    {
     "name": "stdout",
     "output_type": "stream",
     "text": [
      "_________________________________________________________________\n",
      "Layer (type)                 Output Shape              Param #   \n",
      "=================================================================\n",
      "embedding_2 (Embedding)      (None, None, 300)         4601400   \n",
      "_________________________________________________________________\n",
      "time_distributed_2 (TimeDist (None, None, 64)          19264     \n",
      "_________________________________________________________________\n",
      "bidirectional_2 (Bidirection (None, 128)               66048     \n",
      "_________________________________________________________________\n",
      "dense_4 (Dense)              (None, 5)                 645       \n",
      "=================================================================\n",
      "Total params: 4,687,357\n",
      "Trainable params: 85,957\n",
      "Non-trainable params: 4,601,400\n",
      "_________________________________________________________________\n",
      "None\n"
     ]
    }
   ],
   "source": [
    "# 5 - Define your loss/optimizer/metrics\n",
    "\n",
    "# MODIFY CODE BELOW\n",
    "\n",
    "loss_classif     =  'categorical_crossentropy' # find the right loss for multi-class classification\n",
    "optimizer        =  'rmsprop' # find the right optimizer\n",
    "metrics_classif  =  ['accuracy']\n",
    "\n",
    "# Observe how easy (but blackboxed) this is in Keras\n",
    "model.compile(loss=loss_classif,\n",
    "              optimizer=optimizer,\n",
    "              metrics=metrics_classif)\n",
    "print(model.summary())"
   ]
  },
  {
   "cell_type": "code",
   "execution_count": 66,
   "metadata": {},
   "outputs": [
    {
     "name": "stdout",
     "output_type": "stream",
     "text": [
      "Train on 8544 samples, validate on 1101 samples\n",
      "Epoch 1/6\n",
      "\r",
      "  64/8544 [..............................] - ETA: 18s - loss: 1.0338 - acc: 0.5469"
     ]
    },
    {
     "name": "stderr",
     "output_type": "stream",
     "text": [
      "/Users/victort-d/anaconda/lib/python3.6/site-packages/keras/models.py:939: UserWarning: The `nb_epoch` argument in `fit` has been renamed `epochs`.\n",
      "  warnings.warn('The `nb_epoch` argument in `fit` '\n"
     ]
    },
    {
     "name": "stdout",
     "output_type": "stream",
     "text": [
      "8544/8544 [==============================] - 15s 2ms/step - loss: 1.1411 - acc: 0.5070 - val_loss: 1.2688 - val_acc: 0.4305\n",
      "Epoch 2/6\n",
      "8544/8544 [==============================] - 14s 2ms/step - loss: 1.1192 - acc: 0.5204 - val_loss: 1.2626 - val_acc: 0.4360\n",
      "Epoch 3/6\n",
      "8544/8544 [==============================] - 14s 2ms/step - loss: 1.1023 - acc: 0.5297 - val_loss: 1.2758 - val_acc: 0.4460\n",
      "Epoch 4/6\n",
      "8544/8544 [==============================] - 14s 2ms/step - loss: 1.0791 - acc: 0.5426 - val_loss: 1.2822 - val_acc: 0.4423\n",
      "Epoch 5/6\n",
      "8544/8544 [==============================] - 15s 2ms/step - loss: 1.0592 - acc: 0.5537 - val_loss: 1.2972 - val_acc: 0.4360\n",
      "Epoch 6/6\n",
      "8544/8544 [==============================] - 16s 2ms/step - loss: 1.0380 - acc: 0.5696 - val_loss: 1.3356 - val_acc: 0.4169\n"
     ]
    }
   ],
   "source": [
    "# 6 - Train your model and find the best hyperparameters for your dev set\n",
    "#     you will be evaluated on the quality of your predictions on the test set\n",
    "\n",
    "# ADAPT CODE BELOW\n",
    "bs = 64\n",
    "n_epochs = 6\n",
    "train_gr_target = keras.utils.to_categorical(train_gr)\n",
    "dev_gr_target = keras.utils.to_categorical(dev_gr)\n",
    "\n",
    "early_stopping = EarlyStopping(monitor = 'val_loss', min_delta = 0, patience=50)\n",
    "reduce_on_lr = ReduceLROnPlateau(monitor = 'val_loss', patience = 20, factor=.5)\n",
    "\n",
    "\n",
    "history = model.fit(train_sent_pad, train_gr_target, batch_size=bs, nb_epoch=n_epochs, validation_data=(dev_sent_pad, dev_gr_target), callbacks=[early_stopping, reduce_on_lr] )"
   ]
  },
  {
   "cell_type": "code",
   "execution_count": 68,
   "metadata": {},
   "outputs": [],
   "source": [
    "# 7 - Generate your predictions on the test set using model.predict(x_test)\n",
    "#     https://keras.io/models/model/\n",
    "#     Log your predictions in a file (one line = one integer: 0,1,2,3,4)\n",
    "#     Attach the output file \"logreg_lstm_y_test_sst.txt\" to your deliverable.\n",
    "\n",
    "# TYPE CODE HERE\n",
    "test_pred_lstm = model.predict(test_sent_pad)\n",
    "\n",
    "\n",
    "with open(os.path.join(PATH_TO_DATA, 'logreg_lstm_y_test_sst.txt'), 'w', encoding = 'utf-8') as f:\n",
    "    for gr in test_pred_lstm:\n",
    "        f.write(\"%s\\n\" % gr)\n",
    "    f.close()"
   ]
  },
  {
   "cell_type": "markdown",
   "metadata": {},
   "source": [
    "## 4.3 -- innovate !"
   ]
  },
  {
   "cell_type": "code",
   "execution_count": null,
   "metadata": {
    "collapsed": true
   },
   "outputs": [],
   "source": [
    "# 8 - Open question: find a model that is better on your dev set\n",
    "#     (e.g: use a 1D ConvNet, use a better classifier, pretrain your lookup tables ..)\n",
    "#     you will get point if the results on the test set are better: be careful of not overfitting your dev set too much..\n",
    "#     Attach the output file \"XXX_XXX_y_test_sst.txt\" to your deliverable.\n",
    "\n",
    "# TYPE CODE HERE\n",
    "    \n",
    "'''\n",
    "sequence_input = Input(shape=(MAX_SEQUENCE_LENGTH,), dtype='int32')\n",
    "embedded_sequences = embedding_layer(sequence_input)\n",
    "x = Conv1D(128, 5, activation='relu')(embedded_sequences)\n",
    "x = MaxPooling1D(5)(x)\n",
    "x = Conv1D(128, 5, activation='relu')(x)\n",
    "x = MaxPooling1D(5)(x)\n",
    "x = Conv1D(128, 5, activation='relu')(x)\n",
    "x = MaxPooling1D(35)(x)  # global max pooling\n",
    "x = Flatten()(x)\n",
    "x = Dense(128, activation='relu')(x)\n",
    "preds = Dense(len(labels_index), activation='softmax')(x)\n",
    "\n",
    "model1 = Model(sequence_input, preds)\n",
    "model1.compile(loss='categorical_crossentropy',\n",
    "              optimizer='rmsprop',\n",
    "              metrics=['acc'])\n",
    "\n",
    "# happy learning!\n",
    "model1.fit(train_sent_pad, train_gr_target, batch_size=bs, nb_epoch=n_epochs,\n",
    "           validation_data=(dev_sent_pad, dev_gr_target), callbacks=[early_stopping, reduce_on_lr] )\n",
    "\n",
    "test_pred_conv1D = model1.predict(test_sent_pad)\n",
    "\n",
    "\n",
    "with open(os.path.join(PATH_TO_DATA, 'wordemb_conv1D_y_test_sst.txt'), 'w', encoding = 'utf-8') as f:\n",
    "    for gr in test_pred_lstm:\n",
    "        f.write(\"%s\\n\" % gr)\n",
    "    f.close()\n",
    "'''"
   ]
  }
 ],
 "metadata": {
  "kernelspec": {
   "display_name": "Python 3",
   "language": "python",
   "name": "python3"
  },
  "language_info": {
   "codemirror_mode": {
    "name": "ipython",
    "version": 3
   },
   "file_extension": ".py",
   "mimetype": "text/x-python",
   "name": "python",
   "nbconvert_exporter": "python",
   "pygments_lexer": "ipython3",
   "version": "3.6.5"
  }
 },
 "nbformat": 4,
 "nbformat_minor": 1
}
